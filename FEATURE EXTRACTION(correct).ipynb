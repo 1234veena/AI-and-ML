{
 "cells": [
  {
   "cell_type": "code",
   "execution_count": 1,
   "id": "52a6f44c",
   "metadata": {},
   "outputs": [
    {
     "name": "stdout",
     "output_type": "stream",
     "text": [
      "Collecting emot\n",
      "  Downloading emot-3.1-py3-none-any.whl (61 kB)\n",
      "Installing collected packages: emot\n",
      "Successfully installed emot-3.1\n",
      "Requirement already satisfied: emoji in c:\\users\\user\\anaconda3\\lib\\site-packages (2.8.0)\n",
      "Collecting demoji\n",
      "  Downloading demoji-1.1.0-py3-none-any.whl (42 kB)\n",
      "Installing collected packages: demoji\n",
      "Successfully installed demoji-1.1.0\n"
     ]
    },
    {
     "name": "stderr",
     "output_type": "stream",
     "text": [
      "ERROR: Could not find a version that satisfies the requirement punct (from versions: none)\n",
      "ERROR: No matching distribution found for punct\n"
     ]
    },
    {
     "name": "stdout",
     "output_type": "stream",
     "text": [
      "Requirement already satisfied: contractions in c:\\users\\user\\anaconda3\\lib\\site-packages (0.1.73)\n",
      "Requirement already satisfied: textsearch>=0.0.21 in c:\\users\\user\\anaconda3\\lib\\site-packages (from contractions) (0.0.24)\n",
      "Requirement already satisfied: anyascii in c:\\users\\user\\anaconda3\\lib\\site-packages (from textsearch>=0.0.21->contractions) (0.3.2)\n",
      "Requirement already satisfied: pyahocorasick in c:\\users\\user\\anaconda3\\lib\\site-packages (from textsearch>=0.0.21->contractions) (2.0.0)\n"
     ]
    }
   ],
   "source": [
    "#install all libraries\n",
    "!pip install emot\n",
    "!pip install emoji\n",
    "!pip install demoji\n",
    "!pip install punct\n",
    "!pip install contractions"
   ]
  },
  {
   "cell_type": "code",
   "execution_count": 2,
   "id": "2fd4723b",
   "metadata": {},
   "outputs": [
    {
     "name": "stderr",
     "output_type": "stream",
     "text": [
      "[nltk_data] Downloading package punkt to\n",
      "[nltk_data]     C:\\Users\\User\\AppData\\Roaming\\nltk_data...\n",
      "[nltk_data]   Package punkt is already up-to-date!\n"
     ]
    },
    {
     "data": {
      "text/plain": [
       "True"
      ]
     },
     "execution_count": 2,
     "metadata": {},
     "output_type": "execute_result"
    }
   ],
   "source": [
    "import nltk\n",
    "nltk.download('punkt')"
   ]
  },
  {
   "cell_type": "code",
   "execution_count": 4,
   "id": "89c721f6",
   "metadata": {},
   "outputs": [],
   "source": [
    "import pandas as pd"
   ]
  },
  {
   "cell_type": "code",
   "execution_count": 5,
   "id": "5647ff80",
   "metadata": {},
   "outputs": [
    {
     "name": "stderr",
     "output_type": "stream",
     "text": [
      "[nltk_data] Downloading package omw-1.4 to\n",
      "[nltk_data]     C:\\Users\\User\\AppData\\Roaming\\nltk_data...\n",
      "[nltk_data] Downloading package wordnet to\n",
      "[nltk_data]     C:\\Users\\User\\AppData\\Roaming\\nltk_data...\n",
      "[nltk_data]   Package wordnet is already up-to-date!\n",
      "[nltk_data] Downloading package stopwords to\n",
      "[nltk_data]     C:\\Users\\User\\AppData\\Roaming\\nltk_data...\n",
      "[nltk_data]   Package stopwords is already up-to-date!\n"
     ]
    }
   ],
   "source": [
    "nltk.download('omw-1.4')\n",
    "pd.set_option(\"max_colwidth\" ,220)\n",
    "wn = nltk.WordNetLemmatizer()\n",
    "nltk.download('wordnet')\n",
    "\n",
    "nltk.download('stopwords')\n",
    "stopwords = nltk.corpus.stopwords.words('english')"
   ]
  },
  {
   "cell_type": "code",
   "execution_count": 7,
   "id": "baee5f06",
   "metadata": {},
   "outputs": [
    {
     "name": "stderr",
     "output_type": "stream",
     "text": [
      "C:\\Users\\User\\AppData\\Local\\Temp/ipykernel_13604/2799970465.py:23: FutureWarning: The demoji.download_codes attribute is deprecated and will be removed from demoji in a future version. It is an unused attribute as emoji codes are now distributed directly with the demoji package.\n",
      "  demoji.download_codes()\n"
     ]
    }
   ],
   "source": [
    "#from textblob import TextBlob\n",
    "import emoji\n",
    "import nltk.data\n",
    "import numpy as np\n",
    "import re\n",
    "import time\n",
    "import string\n",
    "import emoji\n",
    "import demoji\n",
    "import nltk\n",
    "from nltk.corpus import stopwords\n",
    "from nltk import word_tokenize\n",
    "from nltk.corpus import stopwords\n",
    "import string\n",
    "import contractions\n",
    "from nltk.stem import WordNetLemmatizer\n",
    "from nltk.stem import PorterStemmer\n",
    "import re\n",
    "from nltk.tokenize import TweetTokenizer\n",
    "import regex\n",
    "import nltk\n",
    "from nltk.stem import SnowballStemmer\n",
    "demoji.download_codes()\n",
    "lemmatizer = WordNetLemmatizer()\n",
    "from sklearn.feature_extraction.text import TfidfVectorizer\n",
    "from sklearn.metrics import classification_report,accuracy_score\n",
    "from sklearn.svm import LinearSVC"
   ]
  },
  {
   "cell_type": "code",
   "execution_count": 10,
   "id": "2d035c97",
   "metadata": {},
   "outputs": [],
   "source": [
    "from sklearn.metrics import classification_report\n",
    "from sklearn.linear_model import LogisticRegression\n",
    "from sklearn.naive_bayes import GaussianNB\n",
    "from sklearn import svm\n",
    "from sklearn.neighbors import KNeighborsClassifier\n",
    "from sklearn.tree import DecisionTreeClassifier\n",
    "from sklearn.ensemble import RandomForestClassifier\n",
    "#import xgboost as xgb\n",
    "from keras.models import Sequential\n",
    "from keras.layers import Dense\n",
    "import tensorflow as tf"
   ]
  },
  {
   "cell_type": "code",
   "execution_count": 11,
   "id": "dcb007b0",
   "metadata": {},
   "outputs": [],
   "source": [
    "#read the dataset\n",
    "df_train=pd.read_csv('Fake_train.csv')\n",
    "df_dev=pd.read_csv('Fake_dev.csv')\n",
    "#df_test=pd.read_csv('/content/drive/MyDrive/AI ML/Fake_test_without_labels.csv', sep='\\t')"
   ]
  },
  {
   "cell_type": "code",
   "execution_count": 12,
   "id": "dbcdd346",
   "metadata": {},
   "outputs": [
    {
     "data": {
      "text/html": [
       "<div>\n",
       "<style scoped>\n",
       "    .dataframe tbody tr th:only-of-type {\n",
       "        vertical-align: middle;\n",
       "    }\n",
       "\n",
       "    .dataframe tbody tr th {\n",
       "        vertical-align: top;\n",
       "    }\n",
       "\n",
       "    .dataframe thead th {\n",
       "        text-align: right;\n",
       "    }\n",
       "</style>\n",
       "<table border=\"1\" class=\"dataframe\">\n",
       "  <thead>\n",
       "    <tr style=\"text-align: right;\">\n",
       "      <th></th>\n",
       "      <th>text</th>\n",
       "      <th>label</th>\n",
       "    </tr>\n",
       "  </thead>\n",
       "  <tbody>\n",
       "    <tr>\n",
       "      <th>0</th>\n",
       "      <td>നല്ല അവതരണം. സത്യം പുറത്തു വരട്ടെ</td>\n",
       "      <td>Fake</td>\n",
       "    </tr>\n",
       "    <tr>\n",
       "      <th>1</th>\n",
       "      <td>Masha Allah</td>\n",
       "      <td>Fake</td>\n",
       "    </tr>\n",
       "    <tr>\n",
       "      <th>2</th>\n",
       "      <td>അന്വേഷണം കഴിയുമ്പോൾ,. C. A. A. യ്ക്ക് എതിരായ കലാപം പോലെ ആകുമോ.. സ്വന്തം ആളെ തന്നെ പിടിച്ചു അകത്തിടേണ്ടി വരുമോ?</td>\n",
       "      <td>Fake</td>\n",
       "    </tr>\n",
       "    <tr>\n",
       "      <th>3</th>\n",
       "      <td>Illathentha avaru purath vidayittalland verenth</td>\n",
       "      <td>Fake</td>\n",
       "    </tr>\n",
       "    <tr>\n",
       "      <th>4</th>\n",
       "      <td>Barana pakshathin matoru niyamam.nalla moyanth manthrii</td>\n",
       "      <td>original</td>\n",
       "    </tr>\n",
       "    <tr>\n",
       "      <th>...</th>\n",
       "      <td>...</td>\n",
       "      <td>...</td>\n",
       "    </tr>\n",
       "    <tr>\n",
       "      <th>3252</th>\n",
       "      <td>വീണാ ജോർജ് എന്ന ഒരു ആരോഗ്യ മന്ത്രി വന്നതിനു ശേഷം  കേരളത്തിന്റെ ആരോഗ്യ സ്ഥിതി വളരെ മോശവും പ്രഹസനവുമാണ്...</td>\n",
       "      <td>original</td>\n",
       "    </tr>\n",
       "    <tr>\n",
       "      <th>3253</th>\n",
       "      <td>ഇതാണ് പിണുവാതിര😂😂😂</td>\n",
       "      <td>original</td>\n",
       "    </tr>\n",
       "    <tr>\n",
       "      <th>3254</th>\n",
       "      <td>കേസ് എടുക്കണം 💯👍</td>\n",
       "      <td>original</td>\n",
       "    </tr>\n",
       "    <tr>\n",
       "      <th>3255</th>\n",
       "      <td>എല്ലാത്തിനേം 501 സോപ്പിട്ട് കളിപ്പിച്ച് വിടണം</td>\n",
       "      <td>original</td>\n",
       "    </tr>\n",
       "    <tr>\n",
       "      <th>3256</th>\n",
       "      <td>Day by day leaders r acting like a fool in devil&amp;#39;s on country</td>\n",
       "      <td>original</td>\n",
       "    </tr>\n",
       "  </tbody>\n",
       "</table>\n",
       "<p>3257 rows × 2 columns</p>\n",
       "</div>"
      ],
      "text/plain": [
       "                                                                                                                text  \\\n",
       "0                                                                                  നല്ല അവതരണം. സത്യം പുറത്തു വരട്ടെ   \n",
       "1                                                                                                        Masha Allah   \n",
       "2     അന്വേഷണം കഴിയുമ്പോൾ,. C. A. A. യ്ക്ക് എതിരായ കലാപം പോലെ ആകുമോ.. സ്വന്തം ആളെ തന്നെ പിടിച്ചു അകത്തിടേണ്ടി വരുമോ?   \n",
       "3                                                                    Illathentha avaru purath vidayittalland verenth   \n",
       "4                                                            Barana pakshathin matoru niyamam.nalla moyanth manthrii   \n",
       "...                                                                                                              ...   \n",
       "3252        വീണാ ജോർജ് എന്ന ഒരു ആരോഗ്യ മന്ത്രി വന്നതിനു ശേഷം  കേരളത്തിന്റെ ആരോഗ്യ സ്ഥിതി വളരെ മോശവും പ്രഹസനവുമാണ്...   \n",
       "3253                                                                                              ഇതാണ് പിണുവാതിര😂😂😂   \n",
       "3254                                                                                                കേസ് എടുക്കണം 💯👍   \n",
       "3255                                                                   എല്ലാത്തിനേം 501 സോപ്പിട്ട് കളിപ്പിച്ച് വിടണം   \n",
       "3256                                               Day by day leaders r acting like a fool in devil&#39;s on country   \n",
       "\n",
       "         label  \n",
       "0         Fake  \n",
       "1         Fake  \n",
       "2         Fake  \n",
       "3         Fake  \n",
       "4     original  \n",
       "...        ...  \n",
       "3252  original  \n",
       "3253  original  \n",
       "3254  original  \n",
       "3255  original  \n",
       "3256  original  \n",
       "\n",
       "[3257 rows x 2 columns]"
      ]
     },
     "execution_count": 12,
     "metadata": {},
     "output_type": "execute_result"
    }
   ],
   "source": [
    "df_train"
   ]
  },
  {
   "cell_type": "code",
   "execution_count": 13,
   "id": "96d3f19f",
   "metadata": {},
   "outputs": [
    {
     "data": {
      "text/html": [
       "<div>\n",
       "<style scoped>\n",
       "    .dataframe tbody tr th:only-of-type {\n",
       "        vertical-align: middle;\n",
       "    }\n",
       "\n",
       "    .dataframe tbody tr th {\n",
       "        vertical-align: top;\n",
       "    }\n",
       "\n",
       "    .dataframe thead th {\n",
       "        text-align: right;\n",
       "    }\n",
       "</style>\n",
       "<table border=\"1\" class=\"dataframe\">\n",
       "  <thead>\n",
       "    <tr style=\"text-align: right;\">\n",
       "      <th></th>\n",
       "      <th>text</th>\n",
       "      <th>label</th>\n",
       "    </tr>\n",
       "  </thead>\n",
       "  <tbody>\n",
       "    <tr>\n",
       "      <th>0</th>\n",
       "      <td>Full.  Musilm.   Verodamum</td>\n",
       "      <td>Fake</td>\n",
       "    </tr>\n",
       "    <tr>\n",
       "      <th>1</th>\n",
       "      <td>പക്ഷികളും മൃഗങ്ങളും ഈ ലോകത്ത് സുഖമായി ജീവിക്കുന്നു വിവരവും വിദ്യാഭ്യാസവും ഉണ്ട് എന്ന് പറയുന്ന മനുഷ്യർ മരമണ്ടൻ മാരായി ജീവിക്കുന്നു മോഹനൻ വൈദ്യരും ജേക്കബ് വടക്കഞ്ചേരി യും പറയുന്ന തലങ്ങളിലേക്ക് നിങ്ങൾ എത്താതെ തന്നെ അവരെ...</td>\n",
       "      <td>Fake</td>\n",
       "    </tr>\n",
       "    <tr>\n",
       "      <th>2</th>\n",
       "      <td>ഒരു താടിക്കാരൻ പാത്രം കൊട്ടാൻ പറഞ്ഞപ്പോ ........ മറ്റൊരു ഒന്നും ഇല്ലാത്തവൻ കൈ കൊട്ടാൻ പറയുന്നു ....... 😭😭😭😭</td>\n",
       "      <td>original</td>\n",
       "    </tr>\n",
       "    <tr>\n",
       "      <th>3</th>\n",
       "      <td>കുംഭളേമ&lt;br&gt;മറന്നോ</td>\n",
       "      <td>original</td>\n",
       "    </tr>\n",
       "    <tr>\n",
       "      <th>4</th>\n",
       "      <td>ഇത് തിരുവാതിര അല്ല...... കോറോണയെ കൈകൊട്ടി കൊല്ലുകയാണ് 😂😂😂</td>\n",
       "      <td>original</td>\n",
       "    </tr>\n",
       "    <tr>\n",
       "      <th>...</th>\n",
       "      <td>...</td>\n",
       "      <td>...</td>\n",
       "    </tr>\n",
       "    <tr>\n",
       "      <th>810</th>\n",
       "      <td>ജനങ്ങൾ വിഡ്ഢികളല്ല .. അത്രേ പറയാനുള്ളു</td>\n",
       "      <td>original</td>\n",
       "    </tr>\n",
       "    <tr>\n",
       "      <th>811</th>\n",
       "      <td>😂😂ഒരു പിണറായി</td>\n",
       "      <td>original</td>\n",
       "    </tr>\n",
       "    <tr>\n",
       "      <th>812</th>\n",
       "      <td>Mr sir are you know about bodhidarma the great sindha not a English doctor first you understand  our nature and natural medicine ok then you talk and comment</td>\n",
       "      <td>Fake</td>\n",
       "    </tr>\n",
       "    <tr>\n",
       "      <th>813</th>\n",
       "      <td>ബുദ്ധിയുള്ളവരെ  വിജയിപ്പിക്</td>\n",
       "      <td>Fake</td>\n",
       "    </tr>\n",
       "    <tr>\n",
       "      <th>814</th>\n",
       "      <td>വേണ്ടാത്ത പരിപാടിയിപ്പോയി എന്തായാലും...</td>\n",
       "      <td>original</td>\n",
       "    </tr>\n",
       "  </tbody>\n",
       "</table>\n",
       "<p>815 rows × 2 columns</p>\n",
       "</div>"
      ],
      "text/plain": [
       "                                                                                                                                                                                                                            text  \\\n",
       "0                                                                                                                                                                                                     Full.  Musilm.   Verodamum   \n",
       "1    പക്ഷികളും മൃഗങ്ങളും ഈ ലോകത്ത് സുഖമായി ജീവിക്കുന്നു വിവരവും വിദ്യാഭ്യാസവും ഉണ്ട് എന്ന് പറയുന്ന മനുഷ്യർ മരമണ്ടൻ മാരായി ജീവിക്കുന്നു മോഹനൻ വൈദ്യരും ജേക്കബ് വടക്കഞ്ചേരി യും പറയുന്ന തലങ്ങളിലേക്ക് നിങ്ങൾ എത്താതെ തന്നെ അവരെ...   \n",
       "2                                                                                                                    ഒരു താടിക്കാരൻ പാത്രം കൊട്ടാൻ പറഞ്ഞപ്പോ ........ മറ്റൊരു ഒന്നും ഇല്ലാത്തവൻ കൈ കൊട്ടാൻ പറയുന്നു ....... 😭😭😭😭   \n",
       "3                                                                                                                                                                                                              കുംഭളേമ<br>മറന്നോ   \n",
       "4                                                                                                                                                                      ഇത് തിരുവാതിര അല്ല...... കോറോണയെ കൈകൊട്ടി കൊല്ലുകയാണ് 😂😂😂   \n",
       "..                                                                                                                                                                                                                           ...   \n",
       "810                                                                                                                                                                                       ജനങ്ങൾ വിഡ്ഢികളല്ല .. അത്രേ പറയാനുള്ളു   \n",
       "811                                                                                                                                                                                                                😂😂ഒരു പിണറായി   \n",
       "812                                                                Mr sir are you know about bodhidarma the great sindha not a English doctor first you understand  our nature and natural medicine ok then you talk and comment   \n",
       "813                                                                                                                                                                                                  ബുദ്ധിയുള്ളവരെ  വിജയിപ്പിക്   \n",
       "814                                                                                                                                                                                      വേണ്ടാത്ത പരിപാടിയിപ്പോയി എന്തായാലും...   \n",
       "\n",
       "        label  \n",
       "0        Fake  \n",
       "1        Fake  \n",
       "2    original  \n",
       "3    original  \n",
       "4    original  \n",
       "..        ...  \n",
       "810  original  \n",
       "811  original  \n",
       "812      Fake  \n",
       "813      Fake  \n",
       "814  original  \n",
       "\n",
       "[815 rows x 2 columns]"
      ]
     },
     "execution_count": 13,
     "metadata": {},
     "output_type": "execute_result"
    }
   ],
   "source": [
    "df_dev"
   ]
  },
  {
   "cell_type": "code",
   "execution_count": 16,
   "id": "c83d65ca",
   "metadata": {},
   "outputs": [
    {
     "data": {
      "text/plain": [
       "original    1658\n",
       "Fake        1599\n",
       "Name: label, dtype: int64"
      ]
     },
     "execution_count": 16,
     "metadata": {},
     "output_type": "execute_result"
    }
   ],
   "source": [
    "df_train['label'].value_counts()\n"
   ]
  },
  {
   "cell_type": "code",
   "execution_count": 15,
   "id": "3b9b6b00",
   "metadata": {},
   "outputs": [
    {
     "data": {
      "text/plain": [
       "original    409\n",
       "Fake        406\n",
       "Name: label, dtype: int64"
      ]
     },
     "execution_count": 15,
     "metadata": {},
     "output_type": "execute_result"
    }
   ],
   "source": [
    "df_dev['label'].value_counts()"
   ]
  },
  {
   "cell_type": "code",
   "execution_count": 17,
   "id": "7c081587",
   "metadata": {},
   "outputs": [],
   "source": [
    "#emot_object = emot.core.emot()        #PREPROCESSING\n",
    "ps =PorterStemmer()\n",
    "lemmatiser = WordNetLemmatizer()\n",
    "english_stopwords = stopwords.words('english')\n",
    "exclude = set(string.punctuation)\n",
    "def preprocess(text):\n",
    "  #text=demoji.findall(df['Text'])\n",
    "  text = contractions.fix(text.lower(), slang=True)\n",
    "  text =re.sub(\"@ ?[A-Za-z0-9_]+\", \"\", text)\n",
    "  text= re.sub(r'\\d+', '', text)\n",
    "  text=re.sub(r'$', '', text)\n",
    "  text= re.sub(r'’','', text )\n",
    "  text=re.sub('<.*?>','',text)\n",
    "  text=re.sub(r'http\\S+', '', text)\n",
    "  #text=emoji.demojize(text, delimiters=(\" \", \" \"))\n",
    "  text = ''.join(ch for ch in text if ch not in exclude)\n",
    "  tokens = word_tokenize(text)\n",
    "  #print(\"Tokens:\", tokens)\n",
    "  text = [t for t in tokens if t not in english_stopwords]\n",
    "  text = \" \".join(text)\n",
    "  return text"
   ]
  },
  {
   "cell_type": "code",
   "execution_count": 18,
   "id": "d278eb0d",
   "metadata": {},
   "outputs": [],
   "source": [
    "import emoji\n",
    "#import demoji\n",
    "#demoji.download_codes()\n",
    "def emo(text):\n",
    "  temp=emoji.demojize(text,delimiters=(\" \",\" \"))\n",
    "  temp=temp.replace(\"_\",\"  \")\n",
    "  return temp"
   ]
  },
  {
   "cell_type": "code",
   "execution_count": 24,
   "id": "f14815c2",
   "metadata": {},
   "outputs": [],
   "source": [
    "df_train['clean_text']=df_train[\"text\"].apply(lambda x:emo(x))\n",
    "df_train[\"clean_text\"]=df_train['clean_text'].apply(lambda X: preprocess(X))"
   ]
  },
  {
   "cell_type": "code",
   "execution_count": 20,
   "id": "f1944c77",
   "metadata": {},
   "outputs": [
    {
     "data": {
      "text/html": [
       "<div>\n",
       "<style scoped>\n",
       "    .dataframe tbody tr th:only-of-type {\n",
       "        vertical-align: middle;\n",
       "    }\n",
       "\n",
       "    .dataframe tbody tr th {\n",
       "        vertical-align: top;\n",
       "    }\n",
       "\n",
       "    .dataframe thead th {\n",
       "        text-align: right;\n",
       "    }\n",
       "</style>\n",
       "<table border=\"1\" class=\"dataframe\">\n",
       "  <thead>\n",
       "    <tr style=\"text-align: right;\">\n",
       "      <th></th>\n",
       "      <th>text</th>\n",
       "      <th>label</th>\n",
       "      <th>clean_text</th>\n",
       "    </tr>\n",
       "  </thead>\n",
       "  <tbody>\n",
       "    <tr>\n",
       "      <th>0</th>\n",
       "      <td>നല്ല അവതരണം. സത്യം പുറത്തു വരട്ടെ</td>\n",
       "      <td>Fake</td>\n",
       "      <td>നല്ല അവതരണം സത്യം പുറത്തു വരട്ടെ</td>\n",
       "    </tr>\n",
       "    <tr>\n",
       "      <th>1</th>\n",
       "      <td>Masha Allah</td>\n",
       "      <td>Fake</td>\n",
       "      <td>masha allah</td>\n",
       "    </tr>\n",
       "    <tr>\n",
       "      <th>2</th>\n",
       "      <td>അന്വേഷണം കഴിയുമ്പോൾ,. C. A. A. യ്ക്ക് എതിരായ കലാപം പോലെ ആകുമോ.. സ്വന്തം ആളെ തന്നെ പിടിച്ചു അകത്തിടേണ്ടി വരുമോ?</td>\n",
       "      <td>Fake</td>\n",
       "      <td>അന്വേഷണം കഴിയുമ്പോൾ c യ്ക്ക് എതിരായ കലാപം പോലെ ആകുമോ സ്വന്തം ആളെ തന്നെ പിടിച്ചു അകത്തിടേണ്ടി വരുമോ</td>\n",
       "    </tr>\n",
       "    <tr>\n",
       "      <th>3</th>\n",
       "      <td>Illathentha avaru purath vidayittalland verenth</td>\n",
       "      <td>Fake</td>\n",
       "      <td>illathentha avaru purath vidayittalland verenth</td>\n",
       "    </tr>\n",
       "    <tr>\n",
       "      <th>4</th>\n",
       "      <td>Barana pakshathin matoru niyamam.nalla moyanth manthrii</td>\n",
       "      <td>original</td>\n",
       "      <td>barana pakshathin matoru niyamamnalla moyanth manthrii</td>\n",
       "    </tr>\n",
       "    <tr>\n",
       "      <th>...</th>\n",
       "      <td>...</td>\n",
       "      <td>...</td>\n",
       "      <td>...</td>\n",
       "    </tr>\n",
       "    <tr>\n",
       "      <th>3252</th>\n",
       "      <td>വീണാ ജോർജ് എന്ന ഒരു ആരോഗ്യ മന്ത്രി വന്നതിനു ശേഷം  കേരളത്തിന്റെ ആരോഗ്യ സ്ഥിതി വളരെ മോശവും പ്രഹസനവുമാണ്...</td>\n",
       "      <td>original</td>\n",
       "      <td>വീണാ ജോർജ് എന്ന ഒരു ആരോഗ്യ മന്ത്രി വന്നതിനു ശേഷം കേരളത്തിന്റെ ആരോഗ്യ സ്ഥിതി വളരെ മോശവും പ്രഹസനവുമാണ്</td>\n",
       "    </tr>\n",
       "    <tr>\n",
       "      <th>3253</th>\n",
       "      <td>ഇതാണ് പിണുവാതിര😂😂😂</td>\n",
       "      <td>original</td>\n",
       "      <td>ഇതാണ് പിണുവാതിര face tears joy face tears joy face tears joy</td>\n",
       "    </tr>\n",
       "    <tr>\n",
       "      <th>3254</th>\n",
       "      <td>കേസ് എടുക്കണം 💯👍</td>\n",
       "      <td>original</td>\n",
       "      <td>കേസ് എടുക്കണം hundred points thumbs</td>\n",
       "    </tr>\n",
       "    <tr>\n",
       "      <th>3255</th>\n",
       "      <td>എല്ലാത്തിനേം 501 സോപ്പിട്ട് കളിപ്പിച്ച് വിടണം</td>\n",
       "      <td>original</td>\n",
       "      <td>എല്ലാത്തിനേം സോപ്പിട്ട് കളിപ്പിച്ച് വിടണം</td>\n",
       "    </tr>\n",
       "    <tr>\n",
       "      <th>3256</th>\n",
       "      <td>Day by day leaders r acting like a fool in devil&amp;#39;s on country</td>\n",
       "      <td>original</td>\n",
       "      <td>day day leaders r acting like fool devils country</td>\n",
       "    </tr>\n",
       "  </tbody>\n",
       "</table>\n",
       "<p>3257 rows × 3 columns</p>\n",
       "</div>"
      ],
      "text/plain": [
       "                                                                                                                text  \\\n",
       "0                                                                                  നല്ല അവതരണം. സത്യം പുറത്തു വരട്ടെ   \n",
       "1                                                                                                        Masha Allah   \n",
       "2     അന്വേഷണം കഴിയുമ്പോൾ,. C. A. A. യ്ക്ക് എതിരായ കലാപം പോലെ ആകുമോ.. സ്വന്തം ആളെ തന്നെ പിടിച്ചു അകത്തിടേണ്ടി വരുമോ?   \n",
       "3                                                                    Illathentha avaru purath vidayittalland verenth   \n",
       "4                                                            Barana pakshathin matoru niyamam.nalla moyanth manthrii   \n",
       "...                                                                                                              ...   \n",
       "3252        വീണാ ജോർജ് എന്ന ഒരു ആരോഗ്യ മന്ത്രി വന്നതിനു ശേഷം  കേരളത്തിന്റെ ആരോഗ്യ സ്ഥിതി വളരെ മോശവും പ്രഹസനവുമാണ്...   \n",
       "3253                                                                                              ഇതാണ് പിണുവാതിര😂😂😂   \n",
       "3254                                                                                                കേസ് എടുക്കണം 💯👍   \n",
       "3255                                                                   എല്ലാത്തിനേം 501 സോപ്പിട്ട് കളിപ്പിച്ച് വിടണം   \n",
       "3256                                               Day by day leaders r acting like a fool in devil&#39;s on country   \n",
       "\n",
       "         label  \\\n",
       "0         Fake   \n",
       "1         Fake   \n",
       "2         Fake   \n",
       "3         Fake   \n",
       "4     original   \n",
       "...        ...   \n",
       "3252  original   \n",
       "3253  original   \n",
       "3254  original   \n",
       "3255  original   \n",
       "3256  original   \n",
       "\n",
       "                                                                                                clean_text  \n",
       "0                                                                         നല്ല അവതരണം സത്യം പുറത്തു വരട്ടെ  \n",
       "1                                                                                              masha allah  \n",
       "2       അന്വേഷണം കഴിയുമ്പോൾ c യ്ക്ക് എതിരായ കലാപം പോലെ ആകുമോ സ്വന്തം ആളെ തന്നെ പിടിച്ചു അകത്തിടേണ്ടി വരുമോ  \n",
       "3                                                          illathentha avaru purath vidayittalland verenth  \n",
       "4                                                   barana pakshathin matoru niyamamnalla moyanth manthrii  \n",
       "...                                                                                                    ...  \n",
       "3252  വീണാ ജോർജ് എന്ന ഒരു ആരോഗ്യ മന്ത്രി വന്നതിനു ശേഷം കേരളത്തിന്റെ ആരോഗ്യ സ്ഥിതി വളരെ മോശവും പ്രഹസനവുമാണ്  \n",
       "3253                                          ഇതാണ് പിണുവാതിര face tears joy face tears joy face tears joy  \n",
       "3254                                                                   കേസ് എടുക്കണം hundred points thumbs  \n",
       "3255                                                             എല്ലാത്തിനേം സോപ്പിട്ട് കളിപ്പിച്ച് വിടണം  \n",
       "3256                                                     day day leaders r acting like fool devils country  \n",
       "\n",
       "[3257 rows x 3 columns]"
      ]
     },
     "execution_count": 20,
     "metadata": {},
     "output_type": "execute_result"
    }
   ],
   "source": [
    "df_train"
   ]
  },
  {
   "cell_type": "code",
   "execution_count": 25,
   "id": "4127a1ed",
   "metadata": {},
   "outputs": [],
   "source": [
    "df_dev['clean_text']=df_dev[\"text\"].apply(lambda x:emo(x))\n",
    "df_dev[\"clean_text\"]=df_dev['clean_text'].apply(lambda X: preprocess(X))"
   ]
  },
  {
   "cell_type": "code",
   "execution_count": 26,
   "id": "e9e735e7",
   "metadata": {},
   "outputs": [
    {
     "data": {
      "text/html": [
       "<div>\n",
       "<style scoped>\n",
       "    .dataframe tbody tr th:only-of-type {\n",
       "        vertical-align: middle;\n",
       "    }\n",
       "\n",
       "    .dataframe tbody tr th {\n",
       "        vertical-align: top;\n",
       "    }\n",
       "\n",
       "    .dataframe thead th {\n",
       "        text-align: right;\n",
       "    }\n",
       "</style>\n",
       "<table border=\"1\" class=\"dataframe\">\n",
       "  <thead>\n",
       "    <tr style=\"text-align: right;\">\n",
       "      <th></th>\n",
       "      <th>text</th>\n",
       "      <th>label</th>\n",
       "      <th>clean_text</th>\n",
       "    </tr>\n",
       "  </thead>\n",
       "  <tbody>\n",
       "    <tr>\n",
       "      <th>0</th>\n",
       "      <td>Full.  Musilm.   Verodamum</td>\n",
       "      <td>Fake</td>\n",
       "      <td>full musilm verodamum</td>\n",
       "    </tr>\n",
       "    <tr>\n",
       "      <th>1</th>\n",
       "      <td>പക്ഷികളും മൃഗങ്ങളും ഈ ലോകത്ത് സുഖമായി ജീവിക്കുന്നു വിവരവും വിദ്യാഭ്യാസവും ഉണ്ട് എന്ന് പറയുന്ന മനുഷ്യർ മരമണ്ടൻ മാരായി ജീവിക്കുന്നു മോഹനൻ വൈദ്യരും ജേക്കബ് വടക്കഞ്ചേരി യും പറയുന്ന തലങ്ങളിലേക്ക് നിങ്ങൾ എത്താതെ തന്നെ അവരെ...</td>\n",
       "      <td>Fake</td>\n",
       "      <td>പക്ഷികളും മൃഗങ്ങളും ഈ ലോകത്ത് സുഖമായി ജീവിക്കുന്നു വിവരവും വിദ്യാഭ്യാസവും ഉണ്ട് എന്ന് പറയുന്ന മനുഷ്യർ മരമണ്ടൻ മാരായി ജീവിക്കുന്നു മോഹനൻ വൈദ്യരും ജേക്കബ് വടക്കഞ്ചേരി യും പറയുന്ന തലങ്ങളിലേക്ക് നിങ്ങൾ എത്താതെ തന്നെ അവരെ...</td>\n",
       "    </tr>\n",
       "    <tr>\n",
       "      <th>2</th>\n",
       "      <td>ഒരു താടിക്കാരൻ പാത്രം കൊട്ടാൻ പറഞ്ഞപ്പോ ........ മറ്റൊരു ഒന്നും ഇല്ലാത്തവൻ കൈ കൊട്ടാൻ പറയുന്നു ....... 😭😭😭😭</td>\n",
       "      <td>original</td>\n",
       "      <td>ഒരു താടിക്കാരൻ പാത്രം കൊട്ടാൻ പറഞ്ഞപ്പോ മറ്റൊരു ഒന്നും ഇല്ലാത്തവൻ കൈ കൊട്ടാൻ പറയുന്നു loudly crying face loudly crying face loudly crying face loudly crying face</td>\n",
       "    </tr>\n",
       "    <tr>\n",
       "      <th>3</th>\n",
       "      <td>കുംഭളേമ&lt;br&gt;മറന്നോ</td>\n",
       "      <td>original</td>\n",
       "      <td>കുംഭളേമമറന്നോ</td>\n",
       "    </tr>\n",
       "    <tr>\n",
       "      <th>4</th>\n",
       "      <td>ഇത് തിരുവാതിര അല്ല...... കോറോണയെ കൈകൊട്ടി കൊല്ലുകയാണ് 😂😂😂</td>\n",
       "      <td>original</td>\n",
       "      <td>ഇത് തിരുവാതിര അല്ല കോറോണയെ കൈകൊട്ടി കൊല്ലുകയാണ് face tears joy face tears joy face tears joy</td>\n",
       "    </tr>\n",
       "    <tr>\n",
       "      <th>...</th>\n",
       "      <td>...</td>\n",
       "      <td>...</td>\n",
       "      <td>...</td>\n",
       "    </tr>\n",
       "    <tr>\n",
       "      <th>810</th>\n",
       "      <td>ജനങ്ങൾ വിഡ്ഢികളല്ല .. അത്രേ പറയാനുള്ളു</td>\n",
       "      <td>original</td>\n",
       "      <td>ജനങ്ങൾ വിഡ്ഢികളല്ല അത്രേ പറയാനുള്ളു</td>\n",
       "    </tr>\n",
       "    <tr>\n",
       "      <th>811</th>\n",
       "      <td>😂😂ഒരു പിണറായി</td>\n",
       "      <td>original</td>\n",
       "      <td>face tears joy face tears joy ഒരു പിണറായി</td>\n",
       "    </tr>\n",
       "    <tr>\n",
       "      <th>812</th>\n",
       "      <td>Mr sir are you know about bodhidarma the great sindha not a English doctor first you understand  our nature and natural medicine ok then you talk and comment</td>\n",
       "      <td>Fake</td>\n",
       "      <td>mr sir know bodhidarma great sindha english doctor first understand nature natural medicine ok talk comment</td>\n",
       "    </tr>\n",
       "    <tr>\n",
       "      <th>813</th>\n",
       "      <td>ബുദ്ധിയുള്ളവരെ  വിജയിപ്പിക്</td>\n",
       "      <td>Fake</td>\n",
       "      <td>ബുദ്ധിയുള്ളവരെ വിജയിപ്പിക്</td>\n",
       "    </tr>\n",
       "    <tr>\n",
       "      <th>814</th>\n",
       "      <td>വേണ്ടാത്ത പരിപാടിയിപ്പോയി എന്തായാലും...</td>\n",
       "      <td>original</td>\n",
       "      <td>വേണ്ടാത്ത പരിപാടിയിപ്പോയി എന്തായാലും</td>\n",
       "    </tr>\n",
       "  </tbody>\n",
       "</table>\n",
       "<p>815 rows × 3 columns</p>\n",
       "</div>"
      ],
      "text/plain": [
       "                                                                                                                                                                                                                            text  \\\n",
       "0                                                                                                                                                                                                     Full.  Musilm.   Verodamum   \n",
       "1    പക്ഷികളും മൃഗങ്ങളും ഈ ലോകത്ത് സുഖമായി ജീവിക്കുന്നു വിവരവും വിദ്യാഭ്യാസവും ഉണ്ട് എന്ന് പറയുന്ന മനുഷ്യർ മരമണ്ടൻ മാരായി ജീവിക്കുന്നു മോഹനൻ വൈദ്യരും ജേക്കബ് വടക്കഞ്ചേരി യും പറയുന്ന തലങ്ങളിലേക്ക് നിങ്ങൾ എത്താതെ തന്നെ അവരെ...   \n",
       "2                                                                                                                    ഒരു താടിക്കാരൻ പാത്രം കൊട്ടാൻ പറഞ്ഞപ്പോ ........ മറ്റൊരു ഒന്നും ഇല്ലാത്തവൻ കൈ കൊട്ടാൻ പറയുന്നു ....... 😭😭😭😭   \n",
       "3                                                                                                                                                                                                              കുംഭളേമ<br>മറന്നോ   \n",
       "4                                                                                                                                                                      ഇത് തിരുവാതിര അല്ല...... കോറോണയെ കൈകൊട്ടി കൊല്ലുകയാണ് 😂😂😂   \n",
       "..                                                                                                                                                                                                                           ...   \n",
       "810                                                                                                                                                                                       ജനങ്ങൾ വിഡ്ഢികളല്ല .. അത്രേ പറയാനുള്ളു   \n",
       "811                                                                                                                                                                                                                😂😂ഒരു പിണറായി   \n",
       "812                                                                Mr sir are you know about bodhidarma the great sindha not a English doctor first you understand  our nature and natural medicine ok then you talk and comment   \n",
       "813                                                                                                                                                                                                  ബുദ്ധിയുള്ളവരെ  വിജയിപ്പിക്   \n",
       "814                                                                                                                                                                                      വേണ്ടാത്ത പരിപാടിയിപ്പോയി എന്തായാലും...   \n",
       "\n",
       "        label  \\\n",
       "0        Fake   \n",
       "1        Fake   \n",
       "2    original   \n",
       "3    original   \n",
       "4    original   \n",
       "..        ...   \n",
       "810  original   \n",
       "811  original   \n",
       "812      Fake   \n",
       "813      Fake   \n",
       "814  original   \n",
       "\n",
       "                                                                                                                                                                                                                      clean_text  \n",
       "0                                                                                                                                                                                                          full musilm verodamum  \n",
       "1    പക്ഷികളും മൃഗങ്ങളും ഈ ലോകത്ത് സുഖമായി ജീവിക്കുന്നു വിവരവും വിദ്യാഭ്യാസവും ഉണ്ട് എന്ന് പറയുന്ന മനുഷ്യർ മരമണ്ടൻ മാരായി ജീവിക്കുന്നു മോഹനൻ വൈദ്യരും ജേക്കബ് വടക്കഞ്ചേരി യും പറയുന്ന തലങ്ങളിലേക്ക് നിങ്ങൾ എത്താതെ തന്നെ അവരെ...  \n",
       "2                                                              ഒരു താടിക്കാരൻ പാത്രം കൊട്ടാൻ പറഞ്ഞപ്പോ മറ്റൊരു ഒന്നും ഇല്ലാത്തവൻ കൈ കൊട്ടാൻ പറയുന്നു loudly crying face loudly crying face loudly crying face loudly crying face  \n",
       "3                                                                                                                                                                                                                  കുംഭളേമമറന്നോ  \n",
       "4                                                                                                                                   ഇത് തിരുവാതിര അല്ല കോറോണയെ കൈകൊട്ടി കൊല്ലുകയാണ് face tears joy face tears joy face tears joy  \n",
       "..                                                                                                                                                                                                                           ...  \n",
       "810                                                                                                                                                                                          ജനങ്ങൾ വിഡ്ഢികളല്ല അത്രേ പറയാനുള്ളു  \n",
       "811                                                                                                                                                                                    face tears joy face tears joy ഒരു പിണറായി  \n",
       "812                                                                                                                  mr sir know bodhidarma great sindha english doctor first understand nature natural medicine ok talk comment  \n",
       "813                                                                                                                                                                                                   ബുദ്ധിയുള്ളവരെ വിജയിപ്പിക്  \n",
       "814                                                                                                                                                                                         വേണ്ടാത്ത പരിപാടിയിപ്പോയി എന്തായാലും  \n",
       "\n",
       "[815 rows x 3 columns]"
      ]
     },
     "execution_count": 26,
     "metadata": {},
     "output_type": "execute_result"
    }
   ],
   "source": [
    "df_dev"
   ]
  },
  {
   "cell_type": "code",
   "execution_count": 30,
   "id": "01746dfb",
   "metadata": {},
   "outputs": [],
   "source": [
    "#Count Vectorizer\n",
    "from sklearn.feature_extraction.text import CountVectorizer\n",
    "vectorizer = CountVectorizer()\n",
    "bow_representation = vectorizer.fit_transform(df_train['clean_text'])"
   ]
  },
  {
   "cell_type": "code",
   "execution_count": 31,
   "id": "eefe4595",
   "metadata": {},
   "outputs": [
    {
     "name": "stdout",
     "output_type": "stream",
     "text": [
      "\n",
      "Bag of Words Representation:\n",
      "[[0 0 0 ... 0 0 0]\n",
      " [0 0 0 ... 0 0 0]\n",
      " [0 0 0 ... 0 0 0]\n",
      " ...\n",
      " [0 0 0 ... 0 0 0]\n",
      " [0 0 0 ... 0 0 0]\n",
      " [0 0 0 ... 0 0 0]]\n"
     ]
    }
   ],
   "source": [
    "#matrics representation\n",
    "print('\\nBag of Words Representation:')\n",
    "print(bow_representation.toarray())"
   ]
  },
  {
   "cell_type": "code",
   "execution_count": 32,
   "id": "eed9bdd0",
   "metadata": {},
   "outputs": [
    {
     "name": "stdout",
     "output_type": "stream",
     "text": [
      "\n",
      "Bag of Words Representation:\n",
      "  (0, 7480)\t1\n",
      "  (0, 6595)\t1\n",
      "  (0, 8236)\t1\n",
      "  (0, 7930)\t1\n",
      "  (0, 8114)\t1\n",
      "  (1, 3453)\t1\n",
      "  (1, 286)\t1\n",
      "  (2, 6553)\t1\n",
      "  (2, 8198)\t1\n",
      "  (2, 6994)\t1\n",
      "  (2, 6822)\t1\n",
      "  (2, 6981)\t1\n",
      "  (2, 6632)\t1\n",
      "  (2, 8096)\t1\n",
      "  (2, 6665)\t1\n",
      "  (2, 7325)\t1\n",
      "  (2, 6527)\t1\n",
      "  (2, 8111)\t1\n",
      "  (3, 2239)\t1\n",
      "  (3, 648)\t1\n",
      "  (3, 4836)\t1\n",
      "  (3, 6273)\t1\n",
      "  (3, 6255)\t1\n",
      "  (4, 758)\t1\n",
      "  (4, 4202)\t1\n",
      "  :\t:\n",
      "  (3252, 8129)\t1\n",
      "  (3252, 7879)\t1\n",
      "  (3252, 7695)\t1\n",
      "  (3252, 8185)\t1\n",
      "  (3252, 8345)\t1\n",
      "  (3252, 7913)\t1\n",
      "  (3253, 1916)\t3\n",
      "  (3253, 5573)\t3\n",
      "  (3253, 2550)\t3\n",
      "  (3253, 6706)\t1\n",
      "  (3254, 6929)\t1\n",
      "  (3254, 6818)\t1\n",
      "  (3254, 5806)\t1\n",
      "  (3254, 2194)\t1\n",
      "  (3254, 4566)\t1\n",
      "  (3255, 6988)\t1\n",
      "  (3255, 6835)\t1\n",
      "  (3255, 7214)\t1\n",
      "  (3256, 3180)\t1\n",
      "  (3256, 3154)\t1\n",
      "  (3256, 1405)\t2\n",
      "  (3256, 1319)\t1\n",
      "  (3256, 1986)\t1\n",
      "  (3256, 1450)\t1\n",
      "  (3256, 135)\t1\n"
     ]
    }
   ],
   "source": [
    "print('\\nBag of Words Representation:')\n",
    "print(bow_representation)"
   ]
  },
  {
   "cell_type": "code",
   "execution_count": 34,
   "id": "3fbc4eea",
   "metadata": {},
   "outputs": [],
   "source": [
    "#feature extraction\n",
    "#with parameters\n",
    "\n",
    "tf_idf = TfidfVectorizer(max_features=5000)\n",
    "#applying tf idf to training data\n",
    "X_train_tf1 = tf_idf.fit_transform(df_train['clean_text'])\n",
    "#transforming test data into tf-idf matrix\n",
    "X_dev_tf1 = tf_idf.transform(df_dev[\"clean_text\"])\n",
    "#applying tf idf to training data\n",
    "#X_train_tf1 = tf_idf.transform(df_train['clean_text'])"
   ]
  },
  {
   "cell_type": "code",
   "execution_count": 35,
   "id": "740b3e02",
   "metadata": {},
   "outputs": [
    {
     "data": {
      "text/html": [
       "<style>#sk-container-id-1 {color: black;background-color: white;}#sk-container-id-1 pre{padding: 0;}#sk-container-id-1 div.sk-toggleable {background-color: white;}#sk-container-id-1 label.sk-toggleable__label {cursor: pointer;display: block;width: 100%;margin-bottom: 0;padding: 0.3em;box-sizing: border-box;text-align: center;}#sk-container-id-1 label.sk-toggleable__label-arrow:before {content: \"▸\";float: left;margin-right: 0.25em;color: #696969;}#sk-container-id-1 label.sk-toggleable__label-arrow:hover:before {color: black;}#sk-container-id-1 div.sk-estimator:hover label.sk-toggleable__label-arrow:before {color: black;}#sk-container-id-1 div.sk-toggleable__content {max-height: 0;max-width: 0;overflow: hidden;text-align: left;background-color: #f0f8ff;}#sk-container-id-1 div.sk-toggleable__content pre {margin: 0.2em;color: black;border-radius: 0.25em;background-color: #f0f8ff;}#sk-container-id-1 input.sk-toggleable__control:checked~div.sk-toggleable__content {max-height: 200px;max-width: 100%;overflow: auto;}#sk-container-id-1 input.sk-toggleable__control:checked~label.sk-toggleable__label-arrow:before {content: \"▾\";}#sk-container-id-1 div.sk-estimator input.sk-toggleable__control:checked~label.sk-toggleable__label {background-color: #d4ebff;}#sk-container-id-1 div.sk-label input.sk-toggleable__control:checked~label.sk-toggleable__label {background-color: #d4ebff;}#sk-container-id-1 input.sk-hidden--visually {border: 0;clip: rect(1px 1px 1px 1px);clip: rect(1px, 1px, 1px, 1px);height: 1px;margin: -1px;overflow: hidden;padding: 0;position: absolute;width: 1px;}#sk-container-id-1 div.sk-estimator {font-family: monospace;background-color: #f0f8ff;border: 1px dotted black;border-radius: 0.25em;box-sizing: border-box;margin-bottom: 0.5em;}#sk-container-id-1 div.sk-estimator:hover {background-color: #d4ebff;}#sk-container-id-1 div.sk-parallel-item::after {content: \"\";width: 100%;border-bottom: 1px solid gray;flex-grow: 1;}#sk-container-id-1 div.sk-label:hover label.sk-toggleable__label {background-color: #d4ebff;}#sk-container-id-1 div.sk-serial::before {content: \"\";position: absolute;border-left: 1px solid gray;box-sizing: border-box;top: 0;bottom: 0;left: 50%;z-index: 0;}#sk-container-id-1 div.sk-serial {display: flex;flex-direction: column;align-items: center;background-color: white;padding-right: 0.2em;padding-left: 0.2em;position: relative;}#sk-container-id-1 div.sk-item {position: relative;z-index: 1;}#sk-container-id-1 div.sk-parallel {display: flex;align-items: stretch;justify-content: center;background-color: white;position: relative;}#sk-container-id-1 div.sk-item::before, #sk-container-id-1 div.sk-parallel-item::before {content: \"\";position: absolute;border-left: 1px solid gray;box-sizing: border-box;top: 0;bottom: 0;left: 50%;z-index: -1;}#sk-container-id-1 div.sk-parallel-item {display: flex;flex-direction: column;z-index: 1;position: relative;background-color: white;}#sk-container-id-1 div.sk-parallel-item:first-child::after {align-self: flex-end;width: 50%;}#sk-container-id-1 div.sk-parallel-item:last-child::after {align-self: flex-start;width: 50%;}#sk-container-id-1 div.sk-parallel-item:only-child::after {width: 0;}#sk-container-id-1 div.sk-dashed-wrapped {border: 1px dashed gray;margin: 0 0.4em 0.5em 0.4em;box-sizing: border-box;padding-bottom: 0.4em;background-color: white;}#sk-container-id-1 div.sk-label label {font-family: monospace;font-weight: bold;display: inline-block;line-height: 1.2em;}#sk-container-id-1 div.sk-label-container {text-align: center;}#sk-container-id-1 div.sk-container {/* jupyter's `normalize.less` sets `[hidden] { display: none; }` but bootstrap.min.css set `[hidden] { display: none !important; }` so we also need the `!important` here to be able to override the default hidden behavior on the sphinx rendered scikit-learn.org. See: https://github.com/scikit-learn/scikit-learn/issues/21755 */display: inline-block !important;position: relative;}#sk-container-id-1 div.sk-text-repr-fallback {display: none;}</style><div id=\"sk-container-id-1\" class=\"sk-top-container\"><div class=\"sk-text-repr-fallback\"><pre>MultinomialNB()</pre><b>In a Jupyter environment, please rerun this cell to show the HTML representation or trust the notebook. <br />On GitHub, the HTML representation is unable to render, please try loading this page with nbviewer.org.</b></div><div class=\"sk-container\" hidden><div class=\"sk-item\"><div class=\"sk-estimator sk-toggleable\"><input class=\"sk-toggleable__control sk-hidden--visually\" id=\"sk-estimator-id-1\" type=\"checkbox\" checked><label for=\"sk-estimator-id-1\" class=\"sk-toggleable__label sk-toggleable__label-arrow\">MultinomialNB</label><div class=\"sk-toggleable__content\"><pre>MultinomialNB()</pre></div></div></div></div></div>"
      ],
      "text/plain": [
       "MultinomialNB()"
      ]
     },
     "execution_count": 35,
     "metadata": {},
     "output_type": "execute_result"
    }
   ],
   "source": [
    "#MNB CLASSIFIER\n",
    "from sklearn.naive_bayes import MultinomialNB\n",
    "naive_bayes_classifier = MultinomialNB()\n",
    "naive_bayes_classifier.fit(X_train_tf1, df_train['label'])"
   ]
  },
  {
   "cell_type": "code",
   "execution_count": 36,
   "id": "78831680",
   "metadata": {},
   "outputs": [
    {
     "name": "stdout",
     "output_type": "stream",
     "text": [
      "              precision    recall  f1-score   support\n",
      "\n",
      "        Fake       0.82      0.79      0.81       406\n",
      "    original       0.80      0.83      0.82       409\n",
      "\n",
      "    accuracy                           0.81       815\n",
      "   macro avg       0.81      0.81      0.81       815\n",
      "weighted avg       0.81      0.81      0.81       815\n",
      "\n"
     ]
    }
   ],
   "source": [
    "NB_pred1 = naive_bayes_classifier.predict(X_dev_tf1)\n",
    "print(classification_report(df_dev['label'], NB_pred1))"
   ]
  },
  {
   "cell_type": "code",
   "execution_count": 38,
   "id": "b621e171",
   "metadata": {},
   "outputs": [],
   "source": [
    "#Gaussian Naive Bayes CLassifier\n",
    "x_traintf=X_train_tf1.toarray()\n",
    "x_testtf=X_dev_tf1.toarray()"
   ]
  },
  {
   "cell_type": "code",
   "execution_count": 39,
   "id": "9289bb8f",
   "metadata": {},
   "outputs": [
    {
     "name": "stdout",
     "output_type": "stream",
     "text": [
      "              precision    recall  f1-score   support\n",
      "\n",
      "        Fake       0.77      0.53      0.63       406\n",
      "    original       0.64      0.85      0.73       409\n",
      "\n",
      "    accuracy                           0.69       815\n",
      "   macro avg       0.71      0.69      0.68       815\n",
      "weighted avg       0.71      0.69      0.68       815\n",
      "\n"
     ]
    }
   ],
   "source": [
    "nb = GaussianNB()\n",
    "nb.fit(x_traintf, df_train['label'])\n",
    "GBN_pred = nb.predict(x_testtf)\n",
    "print(classification_report(df_dev['label'], GBN_pred))"
   ]
  },
  {
   "cell_type": "code",
   "execution_count": 45,
   "id": "f4c30124",
   "metadata": {},
   "outputs": [],
   "source": [
    "#feature extraction\n",
    "#without parameters\n",
    "\n",
    "tf_idf1 = TfidfVectorizer()\n",
    "#applying tf idf to training data\n",
    "X_train_tf2 = tf_idf1.fit_transform(df_train['clean_text'])\n",
    "#transforming test data into tf-idf matrix\n",
    "X_dev_tf2 = tf_idf1.transform(df_dev[\"clean_text\"])\n",
    "#applying tf idf to training data\n",
    "#X_train_tf1 = tf_idf.transform(df_train['clean_text'])"
   ]
  },
  {
   "cell_type": "code",
   "execution_count": 46,
   "id": "7c90d686",
   "metadata": {},
   "outputs": [
    {
     "data": {
      "text/html": [
       "<style>#sk-container-id-3 {color: black;background-color: white;}#sk-container-id-3 pre{padding: 0;}#sk-container-id-3 div.sk-toggleable {background-color: white;}#sk-container-id-3 label.sk-toggleable__label {cursor: pointer;display: block;width: 100%;margin-bottom: 0;padding: 0.3em;box-sizing: border-box;text-align: center;}#sk-container-id-3 label.sk-toggleable__label-arrow:before {content: \"▸\";float: left;margin-right: 0.25em;color: #696969;}#sk-container-id-3 label.sk-toggleable__label-arrow:hover:before {color: black;}#sk-container-id-3 div.sk-estimator:hover label.sk-toggleable__label-arrow:before {color: black;}#sk-container-id-3 div.sk-toggleable__content {max-height: 0;max-width: 0;overflow: hidden;text-align: left;background-color: #f0f8ff;}#sk-container-id-3 div.sk-toggleable__content pre {margin: 0.2em;color: black;border-radius: 0.25em;background-color: #f0f8ff;}#sk-container-id-3 input.sk-toggleable__control:checked~div.sk-toggleable__content {max-height: 200px;max-width: 100%;overflow: auto;}#sk-container-id-3 input.sk-toggleable__control:checked~label.sk-toggleable__label-arrow:before {content: \"▾\";}#sk-container-id-3 div.sk-estimator input.sk-toggleable__control:checked~label.sk-toggleable__label {background-color: #d4ebff;}#sk-container-id-3 div.sk-label input.sk-toggleable__control:checked~label.sk-toggleable__label {background-color: #d4ebff;}#sk-container-id-3 input.sk-hidden--visually {border: 0;clip: rect(1px 1px 1px 1px);clip: rect(1px, 1px, 1px, 1px);height: 1px;margin: -1px;overflow: hidden;padding: 0;position: absolute;width: 1px;}#sk-container-id-3 div.sk-estimator {font-family: monospace;background-color: #f0f8ff;border: 1px dotted black;border-radius: 0.25em;box-sizing: border-box;margin-bottom: 0.5em;}#sk-container-id-3 div.sk-estimator:hover {background-color: #d4ebff;}#sk-container-id-3 div.sk-parallel-item::after {content: \"\";width: 100%;border-bottom: 1px solid gray;flex-grow: 1;}#sk-container-id-3 div.sk-label:hover label.sk-toggleable__label {background-color: #d4ebff;}#sk-container-id-3 div.sk-serial::before {content: \"\";position: absolute;border-left: 1px solid gray;box-sizing: border-box;top: 0;bottom: 0;left: 50%;z-index: 0;}#sk-container-id-3 div.sk-serial {display: flex;flex-direction: column;align-items: center;background-color: white;padding-right: 0.2em;padding-left: 0.2em;position: relative;}#sk-container-id-3 div.sk-item {position: relative;z-index: 1;}#sk-container-id-3 div.sk-parallel {display: flex;align-items: stretch;justify-content: center;background-color: white;position: relative;}#sk-container-id-3 div.sk-item::before, #sk-container-id-3 div.sk-parallel-item::before {content: \"\";position: absolute;border-left: 1px solid gray;box-sizing: border-box;top: 0;bottom: 0;left: 50%;z-index: -1;}#sk-container-id-3 div.sk-parallel-item {display: flex;flex-direction: column;z-index: 1;position: relative;background-color: white;}#sk-container-id-3 div.sk-parallel-item:first-child::after {align-self: flex-end;width: 50%;}#sk-container-id-3 div.sk-parallel-item:last-child::after {align-self: flex-start;width: 50%;}#sk-container-id-3 div.sk-parallel-item:only-child::after {width: 0;}#sk-container-id-3 div.sk-dashed-wrapped {border: 1px dashed gray;margin: 0 0.4em 0.5em 0.4em;box-sizing: border-box;padding-bottom: 0.4em;background-color: white;}#sk-container-id-3 div.sk-label label {font-family: monospace;font-weight: bold;display: inline-block;line-height: 1.2em;}#sk-container-id-3 div.sk-label-container {text-align: center;}#sk-container-id-3 div.sk-container {/* jupyter's `normalize.less` sets `[hidden] { display: none; }` but bootstrap.min.css set `[hidden] { display: none !important; }` so we also need the `!important` here to be able to override the default hidden behavior on the sphinx rendered scikit-learn.org. See: https://github.com/scikit-learn/scikit-learn/issues/21755 */display: inline-block !important;position: relative;}#sk-container-id-3 div.sk-text-repr-fallback {display: none;}</style><div id=\"sk-container-id-3\" class=\"sk-top-container\"><div class=\"sk-text-repr-fallback\"><pre>MultinomialNB()</pre><b>In a Jupyter environment, please rerun this cell to show the HTML representation or trust the notebook. <br />On GitHub, the HTML representation is unable to render, please try loading this page with nbviewer.org.</b></div><div class=\"sk-container\" hidden><div class=\"sk-item\"><div class=\"sk-estimator sk-toggleable\"><input class=\"sk-toggleable__control sk-hidden--visually\" id=\"sk-estimator-id-3\" type=\"checkbox\" checked><label for=\"sk-estimator-id-3\" class=\"sk-toggleable__label sk-toggleable__label-arrow\">MultinomialNB</label><div class=\"sk-toggleable__content\"><pre>MultinomialNB()</pre></div></div></div></div></div>"
      ],
      "text/plain": [
       "MultinomialNB()"
      ]
     },
     "execution_count": 46,
     "metadata": {},
     "output_type": "execute_result"
    }
   ],
   "source": [
    "#MNB CLASSIFIER (without parameters)\n",
    "from sklearn.naive_bayes import MultinomialNB\n",
    "naive_bayes_classifier = MultinomialNB()\n",
    "naive_bayes_classifier.fit(X_train_tf2, df_train['label'])"
   ]
  },
  {
   "cell_type": "code",
   "execution_count": 47,
   "id": "ac09f16b",
   "metadata": {},
   "outputs": [
    {
     "name": "stdout",
     "output_type": "stream",
     "text": [
      "              precision    recall  f1-score   support\n",
      "\n",
      "        Fake       0.81      0.79      0.80       406\n",
      "    original       0.80      0.82      0.81       409\n",
      "\n",
      "    accuracy                           0.81       815\n",
      "   macro avg       0.81      0.81      0.81       815\n",
      "weighted avg       0.81      0.81      0.81       815\n",
      "\n"
     ]
    }
   ],
   "source": [
    "NB_pred2 = naive_bayes_classifier.predict(X_dev_tf2)\n",
    "print(classification_report(df_dev['label'], NB_pred2))"
   ]
  },
  {
   "cell_type": "code",
   "execution_count": 48,
   "id": "aee00e41",
   "metadata": {},
   "outputs": [],
   "source": [
    "#Gaussian Naive Bayes CLassifier(without parameters)\n",
    "x_traintff=X_train_tf2.toarray()\n",
    "x_testtff=X_dev_tf2.toarray()"
   ]
  },
  {
   "cell_type": "code",
   "execution_count": 49,
   "id": "53cc5ad9",
   "metadata": {},
   "outputs": [
    {
     "name": "stdout",
     "output_type": "stream",
     "text": [
      "              precision    recall  f1-score   support\n",
      "\n",
      "        Fake       0.74      0.51      0.61       406\n",
      "    original       0.63      0.82      0.71       409\n",
      "\n",
      "    accuracy                           0.67       815\n",
      "   macro avg       0.68      0.67      0.66       815\n",
      "weighted avg       0.68      0.67      0.66       815\n",
      "\n"
     ]
    }
   ],
   "source": [
    "nb1= GaussianNB()\n",
    "nb1.fit(x_traintff, df_train['label'])\n",
    "GBN_pred1 = nb1.predict(x_testtff)\n",
    "print(classification_report(df_dev['label'], GBN_pred1))"
   ]
  },
  {
   "cell_type": "code",
   "execution_count": 51,
   "id": "4b6327f4",
   "metadata": {},
   "outputs": [],
   "source": [
    "#feature extraction\n",
    "#with many parameters\n",
    "\n",
    "tf_idf2 = TfidfVectorizer(analyzer='word', stop_words=None,ngram_range=(1, 1),max_features=5000)\n",
    "#applying tf idf to training data\n",
    "X_train_tf3= tf_idf2.fit_transform(df_train['clean_text'])\n",
    "#transforming test data into tf-idf matrix\n",
    "X_dev_tf3= tf_idf2.transform(df_dev[\"clean_text\"])\n",
    "#applying tf idf to training data\n",
    "#X_train_tf1 = tf_idf.transform(df_train['clean_text'])"
   ]
  },
  {
   "cell_type": "code",
   "execution_count": 52,
   "id": "7ab450cf",
   "metadata": {},
   "outputs": [
    {
     "data": {
      "text/html": [
       "<style>#sk-container-id-4 {color: black;background-color: white;}#sk-container-id-4 pre{padding: 0;}#sk-container-id-4 div.sk-toggleable {background-color: white;}#sk-container-id-4 label.sk-toggleable__label {cursor: pointer;display: block;width: 100%;margin-bottom: 0;padding: 0.3em;box-sizing: border-box;text-align: center;}#sk-container-id-4 label.sk-toggleable__label-arrow:before {content: \"▸\";float: left;margin-right: 0.25em;color: #696969;}#sk-container-id-4 label.sk-toggleable__label-arrow:hover:before {color: black;}#sk-container-id-4 div.sk-estimator:hover label.sk-toggleable__label-arrow:before {color: black;}#sk-container-id-4 div.sk-toggleable__content {max-height: 0;max-width: 0;overflow: hidden;text-align: left;background-color: #f0f8ff;}#sk-container-id-4 div.sk-toggleable__content pre {margin: 0.2em;color: black;border-radius: 0.25em;background-color: #f0f8ff;}#sk-container-id-4 input.sk-toggleable__control:checked~div.sk-toggleable__content {max-height: 200px;max-width: 100%;overflow: auto;}#sk-container-id-4 input.sk-toggleable__control:checked~label.sk-toggleable__label-arrow:before {content: \"▾\";}#sk-container-id-4 div.sk-estimator input.sk-toggleable__control:checked~label.sk-toggleable__label {background-color: #d4ebff;}#sk-container-id-4 div.sk-label input.sk-toggleable__control:checked~label.sk-toggleable__label {background-color: #d4ebff;}#sk-container-id-4 input.sk-hidden--visually {border: 0;clip: rect(1px 1px 1px 1px);clip: rect(1px, 1px, 1px, 1px);height: 1px;margin: -1px;overflow: hidden;padding: 0;position: absolute;width: 1px;}#sk-container-id-4 div.sk-estimator {font-family: monospace;background-color: #f0f8ff;border: 1px dotted black;border-radius: 0.25em;box-sizing: border-box;margin-bottom: 0.5em;}#sk-container-id-4 div.sk-estimator:hover {background-color: #d4ebff;}#sk-container-id-4 div.sk-parallel-item::after {content: \"\";width: 100%;border-bottom: 1px solid gray;flex-grow: 1;}#sk-container-id-4 div.sk-label:hover label.sk-toggleable__label {background-color: #d4ebff;}#sk-container-id-4 div.sk-serial::before {content: \"\";position: absolute;border-left: 1px solid gray;box-sizing: border-box;top: 0;bottom: 0;left: 50%;z-index: 0;}#sk-container-id-4 div.sk-serial {display: flex;flex-direction: column;align-items: center;background-color: white;padding-right: 0.2em;padding-left: 0.2em;position: relative;}#sk-container-id-4 div.sk-item {position: relative;z-index: 1;}#sk-container-id-4 div.sk-parallel {display: flex;align-items: stretch;justify-content: center;background-color: white;position: relative;}#sk-container-id-4 div.sk-item::before, #sk-container-id-4 div.sk-parallel-item::before {content: \"\";position: absolute;border-left: 1px solid gray;box-sizing: border-box;top: 0;bottom: 0;left: 50%;z-index: -1;}#sk-container-id-4 div.sk-parallel-item {display: flex;flex-direction: column;z-index: 1;position: relative;background-color: white;}#sk-container-id-4 div.sk-parallel-item:first-child::after {align-self: flex-end;width: 50%;}#sk-container-id-4 div.sk-parallel-item:last-child::after {align-self: flex-start;width: 50%;}#sk-container-id-4 div.sk-parallel-item:only-child::after {width: 0;}#sk-container-id-4 div.sk-dashed-wrapped {border: 1px dashed gray;margin: 0 0.4em 0.5em 0.4em;box-sizing: border-box;padding-bottom: 0.4em;background-color: white;}#sk-container-id-4 div.sk-label label {font-family: monospace;font-weight: bold;display: inline-block;line-height: 1.2em;}#sk-container-id-4 div.sk-label-container {text-align: center;}#sk-container-id-4 div.sk-container {/* jupyter's `normalize.less` sets `[hidden] { display: none; }` but bootstrap.min.css set `[hidden] { display: none !important; }` so we also need the `!important` here to be able to override the default hidden behavior on the sphinx rendered scikit-learn.org. See: https://github.com/scikit-learn/scikit-learn/issues/21755 */display: inline-block !important;position: relative;}#sk-container-id-4 div.sk-text-repr-fallback {display: none;}</style><div id=\"sk-container-id-4\" class=\"sk-top-container\"><div class=\"sk-text-repr-fallback\"><pre>MultinomialNB()</pre><b>In a Jupyter environment, please rerun this cell to show the HTML representation or trust the notebook. <br />On GitHub, the HTML representation is unable to render, please try loading this page with nbviewer.org.</b></div><div class=\"sk-container\" hidden><div class=\"sk-item\"><div class=\"sk-estimator sk-toggleable\"><input class=\"sk-toggleable__control sk-hidden--visually\" id=\"sk-estimator-id-4\" type=\"checkbox\" checked><label for=\"sk-estimator-id-4\" class=\"sk-toggleable__label sk-toggleable__label-arrow\">MultinomialNB</label><div class=\"sk-toggleable__content\"><pre>MultinomialNB()</pre></div></div></div></div></div>"
      ],
      "text/plain": [
       "MultinomialNB()"
      ]
     },
     "execution_count": 52,
     "metadata": {},
     "output_type": "execute_result"
    }
   ],
   "source": [
    "#MNB CLASSIFIER (with many parameters)\n",
    "from sklearn.naive_bayes import MultinomialNB\n",
    "naive_bayes_classifier = MultinomialNB()\n",
    "naive_bayes_classifier.fit(X_train_tf3, df_train['label'])"
   ]
  },
  {
   "cell_type": "code",
   "execution_count": 53,
   "id": "422d9e68",
   "metadata": {},
   "outputs": [
    {
     "name": "stdout",
     "output_type": "stream",
     "text": [
      "              precision    recall  f1-score   support\n",
      "\n",
      "        Fake       0.82      0.79      0.81       406\n",
      "    original       0.80      0.83      0.82       409\n",
      "\n",
      "    accuracy                           0.81       815\n",
      "   macro avg       0.81      0.81      0.81       815\n",
      "weighted avg       0.81      0.81      0.81       815\n",
      "\n"
     ]
    }
   ],
   "source": [
    "NB_pred3 = naive_bayes_classifier.predict(X_dev_tf3)\n",
    "print(classification_report(df_dev['label'], NB_pred3))"
   ]
  },
  {
   "cell_type": "code",
   "execution_count": 55,
   "id": "2d24300f",
   "metadata": {},
   "outputs": [],
   "source": [
    "#Gaussian Naive Bayes CLassifier(with many parameters)\n",
    "x_traintfff=X_train_tf3.toarray()\n",
    "x_testtfff=X_dev_tf3.toarray()"
   ]
  },
  {
   "cell_type": "code",
   "execution_count": 56,
   "id": "99030ee0",
   "metadata": {},
   "outputs": [
    {
     "name": "stdout",
     "output_type": "stream",
     "text": [
      "              precision    recall  f1-score   support\n",
      "\n",
      "        Fake       0.77      0.53      0.63       406\n",
      "    original       0.64      0.85      0.73       409\n",
      "\n",
      "    accuracy                           0.69       815\n",
      "   macro avg       0.71      0.69      0.68       815\n",
      "weighted avg       0.71      0.69      0.68       815\n",
      "\n"
     ]
    }
   ],
   "source": [
    "nb2= GaussianNB()\n",
    "nb2.fit(x_traintfff, df_train['label'])\n",
    "GBN_pred2= nb2.predict(x_testtfff)\n",
    "print(classification_report(df_dev['label'], GBN_pred2))"
   ]
  },
  {
   "cell_type": "code",
   "execution_count": null,
   "id": "431b5d72",
   "metadata": {},
   "outputs": [],
   "source": []
  }
 ],
 "metadata": {
  "kernelspec": {
   "display_name": "Python 3 (ipykernel)",
   "language": "python",
   "name": "python3"
  },
  "language_info": {
   "codemirror_mode": {
    "name": "ipython",
    "version": 3
   },
   "file_extension": ".py",
   "mimetype": "text/x-python",
   "name": "python",
   "nbconvert_exporter": "python",
   "pygments_lexer": "ipython3",
   "version": "3.9.7"
  }
 },
 "nbformat": 4,
 "nbformat_minor": 5
}
